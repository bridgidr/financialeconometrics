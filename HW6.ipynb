{
 "cells": [
  {
   "cell_type": "code",
   "execution_count": 5,
   "metadata": {},
   "outputs": [],
   "source": [
    "import numpy as np\n",
    "import pandas as pd\n",
    "from sklearn.decomposition import PCA\n",
    "from sklearn.preprocessing import StandardScaler\n",
    "import math\n",
    "import matplotlib.pyplot as plt\n",
    "from scipy.stats import skew, kurtosis\n",
    "import statsmodels.api as sm\n",
    "from statsmodels.tsa.api import VAR\n"
   ]
  },
  {
   "cell_type": "code",
   "execution_count": 2,
   "metadata": {},
   "outputs": [
    {
     "data": {
      "text/plain": [
       "'C:\\\\Users\\\\bridg\\\\OneDrive\\\\Documents\\\\Columbia Business School\\\\Spring 2021\\\\Financial Econometrics\\\\HW 6'"
      ]
     },
     "execution_count": 2,
     "metadata": {},
     "output_type": "execute_result"
    }
   ],
   "source": [
    "pwd"
   ]
  },
  {
   "cell_type": "code",
   "execution_count": null,
   "metadata": {},
   "outputs": [],
   "source": []
  },
  {
   "cell_type": "code",
   "execution_count": 12,
   "metadata": {},
   "outputs": [
    {
     "name": "stdout",
     "output_type": "stream",
     "text": [
      "    Year    VWRETD    VWRETX        Rf       lxr       ldy      ltpa  \\\n",
      "0   1926  0.096018  0.039967  0.036370  0.055959 -2.920682 -2.920682   \n",
      "1   1927  0.333480  0.270703  0.031300  0.256972 -3.007724 -3.007724   \n",
      "2   1928  0.388838  0.335407  0.035400  0.293679 -3.218610 -3.218610   \n",
      "3   1929 -0.146388 -0.177965  0.047400 -0.204590 -3.259357 -3.259357   \n",
      "4   1930 -0.285979 -0.318937  0.024300 -0.360853 -3.028436 -3.028436   \n",
      "..   ...       ...       ...       ...       ...       ...       ...   \n",
      "75  2001 -0.112585 -0.124364  0.038600 -0.157316 -4.308581 -3.695915   \n",
      "76  2002 -0.209784 -0.222402  0.016300 -0.251618 -4.121133 -3.493092   \n",
      "77  2003  0.330895  0.307412  0.010100  0.275802 -4.019558 -3.493239   \n",
      "78  Mean  0.120240  0.076743  0.038011  0.058469 -3.272126 -3.148558   \n",
      "79    SD  0.205004  0.198478  0.031491  0.200208  0.411468  0.292209   \n",
      "\n",
      "        ltpb      ltpc      ltpd  \n",
      "0  -2.920682 -2.006615 -2.006615  \n",
      "1  -3.007724 -2.004447 -2.004447  \n",
      "2  -3.218610 -2.256235 -2.256235  \n",
      "3  -3.259357 -2.623779 -2.623779  \n",
      "4  -3.028436 -2.457026 -2.457026  \n",
      "..       ...       ...       ...  \n",
      "75 -3.991256 -2.177535 -2.235186  \n",
      "76 -3.773901 -2.118650 -2.182587  \n",
      "77 -3.729039 -2.098950 -2.152453  \n",
      "78 -3.210259 -2.042185 -2.063105  \n",
      "79  0.334037  0.135245  0.143087  \n",
      "\n",
      "[80 rows x 10 columns]\n"
     ]
    }
   ],
   "source": [
    "df = pd.read_excel ('Post2Web-PayoutPaperDataTS-23-Sep-2011.xlsx', sheet_name = 'Original Annual TS', header = 29)\n",
    "\n",
    "#del df['Date_original']\n",
    "print(df)\n",
    "#a = df.drop(Date_original)\n",
    "#df.head(10)\n"
   ]
  },
  {
   "cell_type": "code",
   "execution_count": 24,
   "metadata": {},
   "outputs": [
    {
     "name": "stdout",
     "output_type": "stream",
     "text": [
      "\n",
      "Regress on dividend payout yield:\n",
      "\n",
      "                                 OLS Regression Results                                \n",
      "=======================================================================================\n",
      "Dep. Variable:                 VWRETD   R-squared (uncentered):                   0.258\n",
      "Model:                            OLS   Adj. R-squared (uncentered):              0.249\n",
      "Method:                 Least Squares   F-statistic:                              27.49\n",
      "Date:                Sun, 07 Feb 2021   Prob (F-statistic):                    1.28e-06\n",
      "Time:                        20:13:58   Log-Likelihood:                          14.264\n",
      "No. Observations:                  80   AIC:                                     -26.53\n",
      "Df Residuals:                      79   BIC:                                     -24.15\n",
      "Df Model:                           1                                                  \n",
      "Covariance Type:            nonrobust                                                  \n",
      "==============================================================================\n",
      "                 coef    std err          t      P>|t|      [0.025      0.975]\n",
      "------------------------------------------------------------------------------\n",
      "ldy           -0.0364      0.007     -5.243      0.000      -0.050      -0.023\n",
      "==============================================================================\n",
      "Omnibus:                        1.762   Durbin-Watson:                   1.900\n",
      "Prob(Omnibus):                  0.414   Jarque-Bera (JB):                1.722\n",
      "Skew:                          -0.343   Prob(JB):                        0.423\n",
      "Kurtosis:                       2.788   Cond. No.                         1.00\n",
      "==============================================================================\n",
      "\n",
      "Warnings:\n",
      "[1] Standard Errors assume that the covariance matrix of the errors is correctly specified.\n"
     ]
    }
   ],
   "source": [
    "y = df.VWRETD\n",
    "x = df.ldy\n",
    "\n",
    "model = sm.OLS(y, x)\n",
    "results = model.fit()\n",
    "print('\\nRegress on dividend payout yield:\\n')\n",
    "print(results.summary())\n"
   ]
  },
  {
   "cell_type": "code",
   "execution_count": 30,
   "metadata": {},
   "outputs": [
    {
     "name": "stdout",
     "output_type": "stream",
     "text": [
      "                                 OLS Regression Results                                \n",
      "=======================================================================================\n",
      "Dep. Variable:                 VWRETD   R-squared (uncentered):                   0.258\n",
      "Model:                            OLS   Adj. R-squared (uncentered):              0.249\n",
      "Method:                 Least Squares   F-statistic:                              28.30\n",
      "Date:                Sun, 07 Feb 2021   Prob (F-statistic):                    9.43e-07\n",
      "Time:                        20:16:45   Log-Likelihood:                          14.264\n",
      "No. Observations:                  80   AIC:                                     -26.53\n",
      "Df Residuals:                      79   BIC:                                     -24.15\n",
      "Df Model:                           1                                                  \n",
      "Covariance Type:                  HC1                                                  \n",
      "==============================================================================\n",
      "                 coef    std err          t      P>|t|      [0.025      0.975]\n",
      "------------------------------------------------------------------------------\n",
      "ldy           -0.0364      0.007     -5.320      0.000      -0.050      -0.023\n",
      "==============================================================================\n",
      "Omnibus:                        1.762   Durbin-Watson:                   1.900\n",
      "Prob(Omnibus):                  0.414   Jarque-Bera (JB):                1.722\n",
      "Skew:                          -0.343   Prob(JB):                        0.423\n",
      "Kurtosis:                       2.788   Cond. No.                         1.00\n",
      "==============================================================================\n",
      "\n",
      "Warnings:\n",
      "[1] Standard Errors are heteroscedasticity robust (HC1)\n"
     ]
    }
   ],
   "source": [
    "#Robust Standard Errors\n",
    "results_robust = results.get_robustcov_results()\n",
    "print(results_robust.summary())"
   ]
  },
  {
   "cell_type": "code",
   "execution_count": 25,
   "metadata": {},
   "outputs": [
    {
     "name": "stdout",
     "output_type": "stream",
     "text": [
      "\n",
      "Regress on repurchase yield:\n",
      "\n",
      "                                 OLS Regression Results                                \n",
      "=======================================================================================\n",
      "Dep. Variable:                 VWRETD   R-squared (uncentered):                   0.261\n",
      "Model:                            OLS   Adj. R-squared (uncentered):              0.252\n",
      "Method:                 Least Squares   F-statistic:                              27.92\n",
      "Date:                Sun, 07 Feb 2021   Prob (F-statistic):                    1.09e-06\n",
      "Time:                        20:14:04   Log-Likelihood:                          14.422\n",
      "No. Observations:                  80   AIC:                                     -26.84\n",
      "Df Residuals:                      79   BIC:                                     -24.46\n",
      "Df Model:                           1                                                  \n",
      "Covariance Type:            nonrobust                                                  \n",
      "==============================================================================\n",
      "                 coef    std err          t      P>|t|      [0.025      0.975]\n",
      "------------------------------------------------------------------------------\n",
      "ltpa          -0.0382      0.007     -5.284      0.000      -0.053      -0.024\n",
      "==============================================================================\n",
      "Omnibus:                        1.884   Durbin-Watson:                   1.903\n",
      "Prob(Omnibus):                  0.390   Jarque-Bera (JB):                1.838\n",
      "Skew:                          -0.356   Prob(JB):                        0.399\n",
      "Kurtosis:                       2.787   Cond. No.                         1.00\n",
      "==============================================================================\n",
      "\n",
      "Warnings:\n",
      "[1] Standard Errors assume that the covariance matrix of the errors is correctly specified.\n"
     ]
    }
   ],
   "source": [
    "y = df.VWRETD\n",
    "x_r = df.ltpa\n",
    "\n",
    "model_r = sm.OLS(y, x_r)\n",
    "results_r = model_r.fit()\n",
    "print('\\nRegress on repurchase yield:\\n')\n",
    "\n",
    "print(results_r.summary())\n"
   ]
  },
  {
   "cell_type": "code",
   "execution_count": 31,
   "metadata": {},
   "outputs": [
    {
     "name": "stdout",
     "output_type": "stream",
     "text": [
      "                                 OLS Regression Results                                \n",
      "=======================================================================================\n",
      "Dep. Variable:                 VWRETD   R-squared (uncentered):                   0.261\n",
      "Model:                            OLS   Adj. R-squared (uncentered):              0.252\n",
      "Method:                 Least Squares   F-statistic:                              28.55\n",
      "Date:                Sun, 07 Feb 2021   Prob (F-statistic):                    8.57e-07\n",
      "Time:                        20:20:25   Log-Likelihood:                          14.422\n",
      "No. Observations:                  80   AIC:                                     -26.84\n",
      "Df Residuals:                      79   BIC:                                     -24.46\n",
      "Df Model:                           1                                                  \n",
      "Covariance Type:                  HC1                                                  \n",
      "==============================================================================\n",
      "                 coef    std err          t      P>|t|      [0.025      0.975]\n",
      "------------------------------------------------------------------------------\n",
      "ltpa          -0.0382      0.007     -5.344      0.000      -0.052      -0.024\n",
      "==============================================================================\n",
      "Omnibus:                        1.884   Durbin-Watson:                   1.903\n",
      "Prob(Omnibus):                  0.390   Jarque-Bera (JB):                1.838\n",
      "Skew:                          -0.356   Prob(JB):                        0.399\n",
      "Kurtosis:                       2.787   Cond. No.                         1.00\n",
      "==============================================================================\n",
      "\n",
      "Warnings:\n",
      "[1] Standard Errors are heteroscedasticity robust (HC1)\n"
     ]
    }
   ],
   "source": [
    "#Robust Standard Errors\n",
    "results_r_robust = results_r.get_robustcov_results()\n",
    "print(results_r_robust.summary())"
   ]
  },
  {
   "cell_type": "code",
   "execution_count": 26,
   "metadata": {},
   "outputs": [
    {
     "name": "stdout",
     "output_type": "stream",
     "text": [
      "The residuals are the same...\n"
     ]
    }
   ],
   "source": [
    "print('The residuals are the same...')"
   ]
  },
  {
   "cell_type": "code",
   "execution_count": 38,
   "metadata": {},
   "outputs": [
    {
     "name": "stdout",
     "output_type": "stream",
     "text": [
      "        year month    vwretd    vwretx   rf3mo  comDivCRSP  ffnetiss  \\\n",
      "0     1926.0     1  0.000724 -0.001161  0.0349       47.48     22.61   \n",
      "1     1926.0     2 -0.033374 -0.036806  0.0318       85.53     14.40   \n",
      "2     1926.0     3 -0.064341 -0.070468  0.0325      156.68     43.69   \n",
      "3     1926.0     4  0.038358  0.035328  0.0308       63.28     14.59   \n",
      "4     1926.0     5  0.012172  0.008716  0.0317       89.94    184.23   \n",
      "...      ...   ...       ...       ...     ...         ...       ...   \n",
      "1015  2010.0     8 -0.043857 -0.046063  0.0014    32127.41   3021.81   \n",
      "1016  2010.0     9  0.092504  0.090657  0.0016    24757.46   8751.38   \n",
      "1017  2010.0    10  0.038966  0.037387  0.0012    22684.02   2541.19   \n",
      "1018  2010.0    11  0.005866  0.003572  0.0017    37126.11  62827.18   \n",
      "1019  2010.0    12  0.067845  0.065781  0.0012    30489.47  24771.18   \n",
      "\n",
      "             mcap      ldy lcrspnpy  comDivCRSP.1  ffnetiss.1       mcap.1  \\\n",
      "0        25709.25        .        .         47.31       17.98     25118.40   \n",
      "1        24973.91        .        .         85.53       14.40     24330.49   \n",
      "2        23197.34        .        .        151.97       43.69     22607.18   \n",
      "3        24576.93        .        .         61.42       14.59     23954.28   \n",
      "4        24754.47        .        .         89.28      184.23     24122.18   \n",
      "...           ...      ...      ...           ...         ...          ...   \n",
      "1015  14577010.36 -3.89335 -2.40168      26258.51    -9606.75  11069338.74   \n",
      "1016  15931651.13 -3.96634  -2.3309      17968.54    -1688.15  12175040.31   \n",
      "1017  16517041.39 -3.98342  -2.3005      18074.25    -3914.73  12676535.73   \n",
      "1018  16600081.75 -3.98144 -2.30448      29622.78    18398.54  12749932.80   \n",
      "1019  17770490.47 -4.03215 -2.29074      20854.66     3821.37  13602690.06   \n",
      "\n",
      "        ldy.1 lcrspnpy.1  \n",
      "0           .          .  \n",
      "1           .          .  \n",
      "2           .          .  \n",
      "3           .          .  \n",
      "4           .          .  \n",
      "...       ...        ...  \n",
      "1015 -3.88157   -2.25972  \n",
      "1016 -3.95963   -2.24704  \n",
      "1017 -3.97736   -2.21612  \n",
      "1018  -3.9764   -2.19655  \n",
      "1019 -4.02547   -2.19401  \n",
      "\n",
      "[1020 rows x 15 columns]\n"
     ]
    }
   ],
   "source": [
    "# Monthly\n",
    "df_m = pd.read_excel ('Post2Web-PayoutPaperDataTS-23-Sep-2011.xlsx', sheet_name = 'Updated Monthly TS', header = 38)\n",
    "\n",
    "df_m=df_m.dropna()\n",
    "print(df_m)"
   ]
  },
  {
   "cell_type": "code",
   "execution_count": 39,
   "metadata": {},
   "outputs": [
    {
     "name": "stdout",
     "output_type": "stream",
     "text": [
      "\n",
      "Regress on dividend payout yield (monthly):\n",
      "\n",
      "                                 OLS Regression Results                                \n",
      "=======================================================================================\n",
      "Dep. Variable:                 VWRETD   R-squared (uncentered):                   0.258\n",
      "Model:                            OLS   Adj. R-squared (uncentered):              0.249\n",
      "Method:                 Least Squares   F-statistic:                              27.49\n",
      "Date:                Sun, 07 Feb 2021   Prob (F-statistic):                    1.28e-06\n",
      "Time:                        20:42:37   Log-Likelihood:                          14.264\n",
      "No. Observations:                  80   AIC:                                     -26.53\n",
      "Df Residuals:                      79   BIC:                                     -24.15\n",
      "Df Model:                           1                                                  \n",
      "Covariance Type:            nonrobust                                                  \n",
      "==============================================================================\n",
      "                 coef    std err          t      P>|t|      [0.025      0.975]\n",
      "------------------------------------------------------------------------------\n",
      "ldy           -0.0364      0.007     -5.243      0.000      -0.050      -0.023\n",
      "==============================================================================\n",
      "Omnibus:                        1.762   Durbin-Watson:                   1.900\n",
      "Prob(Omnibus):                  0.414   Jarque-Bera (JB):                1.722\n",
      "Skew:                          -0.343   Prob(JB):                        0.423\n",
      "Kurtosis:                       2.788   Cond. No.                         1.00\n",
      "==============================================================================\n",
      "\n",
      "Warnings:\n",
      "[1] Standard Errors assume that the covariance matrix of the errors is correctly specified.\n"
     ]
    }
   ],
   "source": [
    "y_m = df.VWRETD\n",
    "x_m = df.ldy\n",
    "\n",
    "model_m = sm.OLS(y, x)\n",
    "results_m = model_m.fit()\n",
    "print('\\nRegress on dividend payout yield (monthly):\\n')\n",
    "print(results_m.summary())\n"
   ]
  },
  {
   "cell_type": "code",
   "execution_count": null,
   "metadata": {},
   "outputs": [],
   "source": [
    "#Robust Standard Errors\n",
    "results_robust = results.get_robustcov_results()\n",
    "print(results_robust.summary())"
   ]
  },
  {
   "cell_type": "code",
   "execution_count": null,
   "metadata": {},
   "outputs": [],
   "source": [
    "analyze the residuals\n",
    "calc robust standard errors\n",
    "what do you find\n",
    "\n",
    "\n",
    "# do a for loop \n",
    "# where you generate y = beta + x+ error"
   ]
  },
  {
   "cell_type": "code",
   "execution_count": null,
   "metadata": {},
   "outputs": [],
   "source": [
    "for i in range(df.year)"
   ]
  }
 ],
 "metadata": {
  "kernelspec": {
   "display_name": "Python 3",
   "language": "python",
   "name": "python3"
  },
  "language_info": {
   "codemirror_mode": {
    "name": "ipython",
    "version": 3
   },
   "file_extension": ".py",
   "mimetype": "text/x-python",
   "name": "python",
   "nbconvert_exporter": "python",
   "pygments_lexer": "ipython3",
   "version": "3.7.6"
  }
 },
 "nbformat": 4,
 "nbformat_minor": 4
}
